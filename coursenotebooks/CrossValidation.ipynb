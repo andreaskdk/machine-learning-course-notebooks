{
  "nbformat": 4,
  "nbformat_minor": 0,
  "metadata": {
    "colab": {
      "name": "CrossValidation.ipynb",
      "provenance": [],
      "collapsed_sections": []
    },
    "kernelspec": {
      "name": "python3",
      "display_name": "Python 3"
    }
  },
  "cells": [
    {
      "cell_type": "markdown",
      "metadata": {
        "id": "ZGsCTz-P0U6y",
        "colab_type": "text"
      },
      "source": [
        "# Cross Validation\n",
        "\n",
        "In this exercise we will evaluate a classification model with cross validation"
      ]
    },
    {
      "cell_type": "code",
      "metadata": {
        "id": "L_nWPGWu0UIn",
        "colab_type": "code",
        "colab": {}
      },
      "source": [
        "from sklearn import datasets\n",
        "import pandas as pd\n",
        "import numpy as np\n",
        "\n",
        "iris = datasets.load_iris()"
      ],
      "execution_count": 0,
      "outputs": []
    },
    {
      "cell_type": "code",
      "metadata": {
        "id": "SyvU5ouX09QW",
        "colab_type": "code",
        "colab": {}
      },
      "source": [
        "from sklearn.model_selection import train_test_split\n",
        "from sklearn.model_selection import cross_val_score\n",
        "from sklearn.linear_model import LogisticRegression\n",
        "\n",
        "classifier = LogisticRegression(multi_class=\"multinomial\", solver=\"lbfgs\", max_iter=1000)"
      ],
      "execution_count": 0,
      "outputs": []
    },
    {
      "cell_type": "markdown",
      "metadata": {
        "id": "oCuAxtQXr4Vs",
        "colab_type": "text"
      },
      "source": [
        "For cross validation we use the function **cross_val_score()**:"
      ]
    },
    {
      "cell_type": "code",
      "metadata": {
        "id": "ZvkiIr9l1nLF",
        "colab_type": "code",
        "outputId": "1015a0ca-1cbf-47b6-8cb7-d59f14ecf6ce",
        "colab": {
          "base_uri": "https://localhost:8080/",
          "height": 103
        }
      },
      "source": [
        "scores = cross_val_score(classifier, iris.data, iris.target, cv=5)\n",
        "\n",
        "for i in range(len(scores)):\n",
        "  print(\"Fold \"+str(i)+\": \"+str(scores[i]))"
      ],
      "execution_count": 0,
      "outputs": [
        {
          "output_type": "stream",
          "text": [
            "Fold 0: 0.9666666666666667\n",
            "Fold 1: 1.0\n",
            "Fold 2: 0.9333333333333333\n",
            "Fold 3: 0.9666666666666667\n",
            "Fold 4: 1.0\n"
          ],
          "name": "stdout"
        }
      ]
    },
    {
      "cell_type": "markdown",
      "metadata": {
        "id": "rog6D-JssSNp",
        "colab_type": "text"
      },
      "source": [
        "The argument **cv** for the cross_val_score() function defines how many folds to use. Try to change the number.\n",
        "\n",
        "- What is the effect of changing the number of folds?\n",
        "- What is the optimal number of folds?"
      ]
    },
    {
      "cell_type": "code",
      "metadata": {
        "id": "3u4mTNUz2uAL",
        "colab_type": "code",
        "colab": {}
      },
      "source": [
        ""
      ],
      "execution_count": 0,
      "outputs": []
    }
  ]
}