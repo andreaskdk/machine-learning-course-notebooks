{
  "nbformat": 4,
  "nbformat_minor": 0,
  "metadata": {
    "colab": {
      "name": "Kmeans.ipynb",
      "provenance": [],
      "collapsed_sections": []
    },
    "kernelspec": {
      "name": "python3",
      "display_name": "Python 3"
    }
  },
  "cells": [
    {
      "cell_type": "markdown",
      "metadata": {
        "id": "bcSg81tUW1Du",
        "colab_type": "text"
      },
      "source": [
        "# Clustering with K-Means\n",
        "\n",
        "The K-means algorithm is not difficult to implement. The steps are as follows:\n",
        "\n",
        "- Define the metric that the clustering should be based on, i.e. write a function that takes two observations as arguments and returns the distance between them\n",
        "- Decide on how many clusters there should be, i.e. choose $k$\n",
        "- Choose random observations for the initial centroids\n",
        "- Repeat the following steps until no centroid is moving:\n",
        "    - Group all observations by which centroid they are closest to\n",
        "    - Move the centroid to the mean of all the observations in its group\n",
        "    \n",
        "Think about the following questions:\n",
        "\n",
        "- Will the K-means algorithm always converge, i.e. will we reach a point where the centroids are no longer moving?\n",
        "- Will we always reach the same clustering with the algorithm?\n",
        "- If we have a dataset which naturally is split into clusters and we choose k to be higher than the number of natural clusters, what happens?\n",
        "- What if we choose k to be lower than the number of natural clusters?\n",
        "- Can you think of a situation where K-means ends up with a very bad clustering?\n",
        "\n",
        "Try to implement the algorithm on the Iris dataset. Since this is supervised learning we will not use the labels."
      ]
    },
    {
      "cell_type": "code",
      "metadata": {
        "id": "2ZwTlL0FWymv",
        "colab_type": "code",
        "outputId": "da156a0e-147e-4957-9bf1-1a7bc0da75c4",
        "colab": {
          "base_uri": "https://localhost:8080/",
          "height": 269
        }
      },
      "source": [
        "import matplotlib.pyplot as plt\n",
        "import seaborn as sns\n",
        "from sklearn import datasets\n",
        "\n",
        "iris = datasets.load_iris()\n",
        "ax=sns.scatterplot(iris.data[:,1], iris.data[:,2])"
      ],
      "execution_count": 1,
      "outputs": [
        {
          "output_type": "display_data",
          "data": {
            "image/png": "[encoded data removed]",
            "text/plain": [
              "<Figure size 432x288 with 1 Axes>"
            ]
          },
          "metadata": {
            "tags": []
          }
        }
      ]
    },
    {
      "cell_type": "code",
      "metadata": {
        "id": "XXIY6Jc7VR27",
        "colab_type": "code",
        "colab": {}
      },
      "source": [
        ""
      ],
      "execution_count": 0,
      "outputs": []
    }
  ]
}