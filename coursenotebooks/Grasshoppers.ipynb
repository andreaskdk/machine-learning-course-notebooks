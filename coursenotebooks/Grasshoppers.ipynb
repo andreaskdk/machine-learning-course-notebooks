{
  "nbformat": 4,
  "nbformat_minor": 0,
  "metadata": {
    "colab": {
      "name": "Grasshoppers.ipynb",
      "provenance": [],
      "collapsed_sections": []
    },
    "kernelspec": {
      "name": "python3",
      "display_name": "Python 3"
    }
  },
  "cells": [
    {
      "cell_type": "markdown",
      "metadata": {
        "id": "p3ZHiqKaywN5",
        "colab_type": "text"
      },
      "source": [
        "# Grasshopper Chirps\n",
        "\n",
        "Grasshoppers, like all insects, are cold blooded animals and take the temperature of their suroundings. This affects how quickly the insects muscles moves. The higher the temperature the faster the insect moves. For grasshoppers this means that the rate at which it chirps depends on the temperature. The dataset has to columns: temperature and chirps which is counted over a 15 seconds period.\n",
        "\n",
        "![grasshopper](https://storage.googleapis.com/machine-learning-course-datasets/cricket.jpg)"
      ]
    },
    {
      "cell_type": "code",
      "metadata": {
        "id": "bT7DdrLr1nzR",
        "colab_type": "code",
        "colab": {}
      },
      "source": [
        "import pandas as pd\n",
        "import numpy as np\n",
        "\n",
        "data = pd.DataFrame(np.array([[32, 20],\n",
        "[22, 16],\n",
        "[34, 20],\n",
        "[29, 18],\n",
        "[27, 18],\n",
        "[24, 16],\n",
        "[21, 15],\n",
        "[28, 17],\n",
        "[21, 15],\n",
        "[28, 16],\n",
        "[26, 17],\n",
        "[28, 17],\n",
        "[27, 16],\n",
        "[29, 17],\n",
        "[24, 15]]), columns=[\"temperature\", \"chirps\"])\n"
      ],
      "execution_count": 0,
      "outputs": []
    },
    {
      "cell_type": "code",
      "metadata": {
        "id": "N1d0t5o021Tx",
        "colab_type": "code",
        "outputId": "c0e32471-c434-478f-9ee1-c2a815853b2a",
        "colab": {
          "base_uri": "https://localhost:8080/",
          "height": 514
        }
      },
      "source": [
        "data"
      ],
      "execution_count": 2,
      "outputs": [
        {
          "output_type": "execute_result",
          "data": {
            "text/html": [
              "<div>\n",
              "<style scoped>\n",
              "    .dataframe tbody tr th:only-of-type {\n",
              "        vertical-align: middle;\n",
              "    }\n",
              "\n",
              "    .dataframe tbody tr th {\n",
              "        vertical-align: top;\n",
              "    }\n",
              "\n",
              "    .dataframe thead th {\n",
              "        text-align: right;\n",
              "    }\n",
              "</style>\n",
              "<table border=\"1\" class=\"dataframe\">\n",
              "  <thead>\n",
              "    <tr style=\"text-align: right;\">\n",
              "      <th></th>\n",
              "      <th>temperature</th>\n",
              "      <th>chirps</th>\n",
              "    </tr>\n",
              "  </thead>\n",
              "  <tbody>\n",
              "    <tr>\n",
              "      <th>0</th>\n",
              "      <td>32</td>\n",
              "      <td>20</td>\n",
              "    </tr>\n",
              "    <tr>\n",
              "      <th>1</th>\n",
              "      <td>22</td>\n",
              "      <td>16</td>\n",
              "    </tr>\n",
              "    <tr>\n",
              "      <th>2</th>\n",
              "      <td>34</td>\n",
              "      <td>20</td>\n",
              "    </tr>\n",
              "    <tr>\n",
              "      <th>3</th>\n",
              "      <td>29</td>\n",
              "      <td>18</td>\n",
              "    </tr>\n",
              "    <tr>\n",
              "      <th>4</th>\n",
              "      <td>27</td>\n",
              "      <td>18</td>\n",
              "    </tr>\n",
              "    <tr>\n",
              "      <th>5</th>\n",
              "      <td>24</td>\n",
              "      <td>16</td>\n",
              "    </tr>\n",
              "    <tr>\n",
              "      <th>6</th>\n",
              "      <td>21</td>\n",
              "      <td>15</td>\n",
              "    </tr>\n",
              "    <tr>\n",
              "      <th>7</th>\n",
              "      <td>28</td>\n",
              "      <td>17</td>\n",
              "    </tr>\n",
              "    <tr>\n",
              "      <th>8</th>\n",
              "      <td>21</td>\n",
              "      <td>15</td>\n",
              "    </tr>\n",
              "    <tr>\n",
              "      <th>9</th>\n",
              "      <td>28</td>\n",
              "      <td>16</td>\n",
              "    </tr>\n",
              "    <tr>\n",
              "      <th>10</th>\n",
              "      <td>26</td>\n",
              "      <td>17</td>\n",
              "    </tr>\n",
              "    <tr>\n",
              "      <th>11</th>\n",
              "      <td>28</td>\n",
              "      <td>17</td>\n",
              "    </tr>\n",
              "    <tr>\n",
              "      <th>12</th>\n",
              "      <td>27</td>\n",
              "      <td>16</td>\n",
              "    </tr>\n",
              "    <tr>\n",
              "      <th>13</th>\n",
              "      <td>29</td>\n",
              "      <td>17</td>\n",
              "    </tr>\n",
              "    <tr>\n",
              "      <th>14</th>\n",
              "      <td>24</td>\n",
              "      <td>15</td>\n",
              "    </tr>\n",
              "  </tbody>\n",
              "</table>\n",
              "</div>"
            ],
            "text/plain": [
              "    temperature  chirps\n",
              "0            32      20\n",
              "1            22      16\n",
              "2            34      20\n",
              "3            29      18\n",
              "4            27      18\n",
              "5            24      16\n",
              "6            21      15\n",
              "7            28      17\n",
              "8            21      15\n",
              "9            28      16\n",
              "10           26      17\n",
              "11           28      17\n",
              "12           27      16\n",
              "13           29      17\n",
              "14           24      15"
            ]
          },
          "metadata": {
            "tags": []
          },
          "execution_count": 2
        }
      ]
    },
    {
      "cell_type": "markdown",
      "metadata": {
        "id": "5GV3BI7NUPqe",
        "colab_type": "text"
      },
      "source": [
        "If we plot the data, we can see that there is a relationship between "
      ]
    },
    {
      "cell_type": "code",
      "metadata": {
        "id": "_7fDUfbC2UNp",
        "colab_type": "code",
        "outputId": "d27aed48-2c32-46ee-946d-533797aa355f",
        "colab": {
          "base_uri": "https://localhost:8080/",
          "height": 300
        }
      },
      "source": [
        "import seaborn as sns\n",
        "import matplotlib.pyplot as plt\n",
        "\n",
        "sns.scatterplot(x=\"temperature\", y=\"chirps\", data=data)"
      ],
      "execution_count": 3,
      "outputs": [
        {
          "output_type": "execute_result",
          "data": {
            "text/plain": [
              "<matplotlib.axes._subplots.AxesSubplot at 0x7f0e255c4f98>"
            ]
          },
          "metadata": {
            "tags": []
          },
          "execution_count": 3
        },
        {
          "output_type": "display_data",
          "data": {
            "image/png": "[encoded data removed]",
            "text/plain": [
              "<Figure size 432x288 with 1 Axes>"
            ]
          },
          "metadata": {
            "tags": []
          }
        }
      ]
    },
    {
      "cell_type": "markdown",
      "metadata": {
        "id": "DanBO93pQVnX",
        "colab_type": "text"
      },
      "source": [
        "In stead of doing a grid search ourselves we can use a Python library called scikit-learn to find the best linear model for this data."
      ]
    },
    {
      "cell_type": "code",
      "metadata": {
        "id": "PTjTcrFE2a-d",
        "colab_type": "code",
        "colab": {}
      },
      "source": [
        "from sklearn.linear_model import LinearRegression\n",
        "reg = LinearRegression().fit(data[[\"temperature\"]], data[[\"chirps\"]])"
      ],
      "execution_count": 0,
      "outputs": []
    },
    {
      "cell_type": "markdown",
      "metadata": {
        "id": "28WA_pNM6rgo",
        "colab_type": "text"
      },
      "source": [
        "We can inspect the parameters of the model:"
      ]
    },
    {
      "cell_type": "code",
      "metadata": {
        "id": "Sea7jVw8UF9p",
        "colab_type": "code",
        "outputId": "197826a4-bf2d-47d8-9d0c-369a96487fc6",
        "colab": {
          "base_uri": "https://localhost:8080/",
          "height": 34
        }
      },
      "source": [
        "reg.coef_"
      ],
      "execution_count": 5,
      "outputs": [
        {
          "output_type": "execute_result",
          "data": {
            "text/plain": [
              "array([[0.3729097]])"
            ]
          },
          "metadata": {
            "tags": []
          },
          "execution_count": 5
        }
      ]
    },
    {
      "cell_type": "code",
      "metadata": {
        "id": "NKzgcz7PVXOe",
        "colab_type": "code",
        "outputId": "4ac890f6-05e7-4a8f-cfc0-454607743097",
        "colab": {
          "base_uri": "https://localhost:8080/",
          "height": 34
        }
      },
      "source": [
        "reg.intercept_"
      ],
      "execution_count": 6,
      "outputs": [
        {
          "output_type": "execute_result",
          "data": {
            "text/plain": [
              "array([6.92240803])"
            ]
          },
          "metadata": {
            "tags": []
          },
          "execution_count": 6
        }
      ]
    },
    {
      "cell_type": "markdown",
      "metadata": {
        "id": "MF2fvJiWQqaa",
        "colab_type": "text"
      },
      "source": [
        "Hence, our model is:\n",
        "\n",
        "$$chirps = 0.37 * temperature + 6.9$$\n",
        "\n",
        "This we can plot onto our scatterplot."
      ]
    },
    {
      "cell_type": "code",
      "metadata": {
        "id": "oA9Moqr6Vd25",
        "colab_type": "code",
        "outputId": "d5e041d1-fa4b-4007-cc03-547272019375",
        "colab": {
          "base_uri": "https://localhost:8080/",
          "height": 300
        }
      },
      "source": [
        "\n",
        "sns.scatterplot(x=\"temperature\", y=\"chirps\", data=data)\n",
        "plt.plot([20, 34], reg.predict([[20], [34]]), linewidth=2, color=\"g\")"
      ],
      "execution_count": 7,
      "outputs": [
        {
          "output_type": "execute_result",
          "data": {
            "text/plain": [
              "[<matplotlib.lines.Line2D at 0x7f0e1f648518>]"
            ]
          },
          "metadata": {
            "tags": []
          },
          "execution_count": 7
        },
        {
          "output_type": "display_data",
          "data": {
            "image/png": "[encoded data removed]",
            "text/plain": [
              "<Figure size 432x288 with 1 Axes>"
            ]
          },
          "metadata": {
            "tags": []
          }
        }
      ]
    },
    {
      "cell_type": "code",
      "metadata": {
        "id": "I3M-9Z2pDLsa",
        "colab_type": "code",
        "colab": {}
      },
      "source": [
        ""
      ],
      "execution_count": 0,
      "outputs": []
    }
  ]
}