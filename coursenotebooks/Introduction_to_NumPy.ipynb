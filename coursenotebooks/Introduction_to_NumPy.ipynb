{
  "nbformat": 4,
  "nbformat_minor": 0,
  "metadata": {
    "colab": {
      "name": "Introduction to NumPy.ipynb",
      "provenance": [],
      "collapsed_sections": []
    },
    "kernelspec": {
      "name": "python3",
      "display_name": "Python 3"
    }
  },
  "cells": [
    {
      "cell_type": "markdown",
      "metadata": {
        "id": "gxK-MHRiMMHh",
        "colab_type": "text"
      },
      "source": [
        "# Introduction to NumPy\n",
        "\n",
        "- **NumPy** is a Python library for doing efficient computation with typed arrays. It is written in C and is much faster than the build in Python data structures. [Documentation](https://docs.scipy.org/doc/numpy/user/basics.html)\n",
        "\n",
        "\n",
        "\n"
      ]
    },
    {
      "cell_type": "markdown",
      "metadata": {
        "id": "6qgCMYuKREhA",
        "colab_type": "text"
      },
      "source": [
        "## NumPy\n",
        "\n",
        "Conventioally, NumPy is imported and renamed to **np**"
      ]
    },
    {
      "cell_type": "code",
      "metadata": {
        "id": "8JnqvdrPMLFI",
        "colab_type": "code",
        "colab": {}
      },
      "source": [
        "import numpy as np"
      ],
      "execution_count": 0,
      "outputs": []
    },
    {
      "cell_type": "markdown",
      "metadata": {
        "id": "vQskGQLiRT6p",
        "colab_type": "text"
      },
      "source": [
        "NumPy allows us to create arrays that are similar to Pythons build in lists"
      ]
    },
    {
      "cell_type": "code",
      "metadata": {
        "id": "vfJWCB5LRRqN",
        "colab_type": "code",
        "outputId": "760bbfe2-0c7f-417c-e3dc-1778249ae916",
        "colab": {
          "base_uri": "https://localhost:8080/",
          "height": 52
        }
      },
      "source": [
        "a = [1, 2, 3, 4]  # A Python list\n",
        "a_np = np.array([1,2,3,4]) # A numpy array\n",
        "\n",
        "print(a)\n",
        "print(a_np)"
      ],
      "execution_count": 0,
      "outputs": [
        {
          "output_type": "stream",
          "text": [
            "[1, 2, 3, 4]\n",
            "[1 2 3 4]\n"
          ],
          "name": "stdout"
        }
      ]
    },
    {
      "cell_type": "markdown",
      "metadata": {
        "id": "NqRU_TGjR1IO",
        "colab_type": "text"
      },
      "source": [
        "NumPy arrays have a shape that we can query."
      ]
    },
    {
      "cell_type": "code",
      "metadata": {
        "id": "1jzOmu6JRidc",
        "colab_type": "code",
        "outputId": "b907310b-5521-442b-fda7-36508a1d0c3f",
        "colab": {
          "base_uri": "https://localhost:8080/",
          "height": 34
        }
      },
      "source": [
        "a_np.shape"
      ],
      "execution_count": 0,
      "outputs": [
        {
          "output_type": "execute_result",
          "data": {
            "text/plain": [
              "(4,)"
            ]
          },
          "metadata": {
            "tags": []
          },
          "execution_count": 3
        }
      ]
    },
    {
      "cell_type": "markdown",
      "metadata": {
        "id": "zmm7qEdTSHsr",
        "colab_type": "text"
      },
      "source": [
        "In this case we a vector of length four, but we can reshape this if we like."
      ]
    },
    {
      "cell_type": "code",
      "metadata": {
        "id": "OIWzZtVRRlQ9",
        "colab_type": "code",
        "outputId": "f102327e-2d4f-4186-8094-7788c95f41ab",
        "colab": {
          "base_uri": "https://localhost:8080/",
          "height": 51
        }
      },
      "source": [
        "b=a_np.reshape((2,2))\n",
        "b"
      ],
      "execution_count": 0,
      "outputs": [
        {
          "output_type": "execute_result",
          "data": {
            "text/plain": [
              "array([[1, 2],\n",
              "       [3, 4]])"
            ]
          },
          "metadata": {
            "tags": []
          },
          "execution_count": 4
        }
      ]
    },
    {
      "cell_type": "markdown",
      "metadata": {
        "id": "VEKYg-GTbnQ7",
        "colab_type": "text"
      },
      "source": [
        "**b** is now a 2x2 matrix. \n",
        "\n",
        "We can turn it back into a vector like this:"
      ]
    },
    {
      "cell_type": "code",
      "metadata": {
        "id": "AeZLDTpqbmo2",
        "colab_type": "code",
        "outputId": "12d96464-132a-4225-9562-5a8b19fa9066",
        "colab": {
          "base_uri": "https://localhost:8080/",
          "height": 34
        }
      },
      "source": [
        "b.reshape((4))"
      ],
      "execution_count": 0,
      "outputs": [
        {
          "output_type": "execute_result",
          "data": {
            "text/plain": [
              "array([1, 2, 3, 4])"
            ]
          },
          "metadata": {
            "tags": []
          },
          "execution_count": 13
        }
      ]
    },
    {
      "cell_type": "markdown",
      "metadata": {
        "id": "bHQeo0bob7RQ",
        "colab_type": "text"
      },
      "source": [
        "or a 4x1 matrix:"
      ]
    },
    {
      "cell_type": "code",
      "metadata": {
        "id": "lvsEWRIWb74P",
        "colab_type": "code",
        "outputId": "3abf819f-61c3-45e2-aaf9-fc21318c20c3",
        "colab": {
          "base_uri": "https://localhost:8080/",
          "height": 85
        }
      },
      "source": [
        "b.reshape((4,1))"
      ],
      "execution_count": 0,
      "outputs": [
        {
          "output_type": "execute_result",
          "data": {
            "text/plain": [
              "array([[1],\n",
              "       [2],\n",
              "       [3],\n",
              "       [4]])"
            ]
          },
          "metadata": {
            "tags": []
          },
          "execution_count": 15
        }
      ]
    },
    {
      "cell_type": "markdown",
      "metadata": {
        "id": "qL3SSLJTcND5",
        "colab_type": "text"
      },
      "source": [
        "If we don't know how many elements we have in one of the dimensions we can replace this dimension with **-1** and NumPy will find it for us:"
      ]
    },
    {
      "cell_type": "code",
      "metadata": {
        "id": "RFfqSeA0cOOD",
        "colab_type": "code",
        "outputId": "a5440330-b2c9-46ec-8231-b335c69ea4fa",
        "colab": {
          "base_uri": "https://localhost:8080/",
          "height": 85
        }
      },
      "source": [
        "b.reshape((-1,1))"
      ],
      "execution_count": 0,
      "outputs": [
        {
          "output_type": "execute_result",
          "data": {
            "text/plain": [
              "array([[1],\n",
              "       [2],\n",
              "       [3],\n",
              "       [4]])"
            ]
          },
          "metadata": {
            "tags": []
          },
          "execution_count": 16
        }
      ]
    },
    {
      "cell_type": "markdown",
      "metadata": {
        "id": "PWb7OAtyS3LL",
        "colab_type": "text"
      },
      "source": [
        "We can pick out a specific element with indexes:"
      ]
    },
    {
      "cell_type": "code",
      "metadata": {
        "id": "yNZnSxeATZ69",
        "colab_type": "code",
        "outputId": "d478de64-465f-4d87-8ab8-e2a51a01fcf5",
        "colab": {
          "base_uri": "https://localhost:8080/",
          "height": 34
        }
      },
      "source": [
        "b[0][0]"
      ],
      "execution_count": 0,
      "outputs": [
        {
          "output_type": "execute_result",
          "data": {
            "text/plain": [
              "1"
            ]
          },
          "metadata": {
            "tags": []
          },
          "execution_count": 5
        }
      ]
    },
    {
      "cell_type": "markdown",
      "metadata": {
        "id": "EF9LJRhqU4GX",
        "colab_type": "text"
      },
      "source": [
        "Or equivalently:"
      ]
    },
    {
      "cell_type": "code",
      "metadata": {
        "id": "6j57uPDoTU8A",
        "colab_type": "code",
        "outputId": "8725df94-2398-4b9d-ad5c-7d08665b8f09",
        "colab": {
          "base_uri": "https://localhost:8080/",
          "height": 34
        }
      },
      "source": [
        "b[0,0]"
      ],
      "execution_count": 0,
      "outputs": [
        {
          "output_type": "execute_result",
          "data": {
            "text/plain": [
              "1"
            ]
          },
          "metadata": {
            "tags": []
          },
          "execution_count": 6
        }
      ]
    },
    {
      "cell_type": "markdown",
      "metadata": {
        "id": "8geclz3YVGTC",
        "colab_type": "text"
      },
      "source": [
        "Or we can get the last column"
      ]
    },
    {
      "cell_type": "code",
      "metadata": {
        "id": "pGDqCZKpTPNI",
        "colab_type": "code",
        "outputId": "00a12030-2b09-406b-fa21-8128832adf36",
        "colab": {
          "base_uri": "https://localhost:8080/",
          "height": 34
        }
      },
      "source": [
        "b[:,1]"
      ],
      "execution_count": 0,
      "outputs": [
        {
          "output_type": "execute_result",
          "data": {
            "text/plain": [
              "array([2, 4])"
            ]
          },
          "metadata": {
            "tags": []
          },
          "execution_count": 7
        }
      ]
    },
    {
      "cell_type": "markdown",
      "metadata": {
        "id": "hAtv5Q2WXsrg",
        "colab_type": "text"
      },
      "source": [
        "NumPy arrays have some build in functions, for example we can **sum** all the elements of a structure"
      ]
    },
    {
      "cell_type": "code",
      "metadata": {
        "id": "bBFX6zjLSXIl",
        "colab_type": "code",
        "outputId": "dd386963-ab5c-4da3-ed1a-2e9c4e0abe7a",
        "colab": {
          "base_uri": "https://localhost:8080/",
          "height": 34
        }
      },
      "source": [
        "b.sum()"
      ],
      "execution_count": 0,
      "outputs": [
        {
          "output_type": "execute_result",
          "data": {
            "text/plain": [
              "10"
            ]
          },
          "metadata": {
            "tags": []
          },
          "execution_count": 8
        }
      ]
    },
    {
      "cell_type": "markdown",
      "metadata": {
        "id": "rBxGEhIgX3eL",
        "colab_type": "text"
      },
      "source": [
        "It is also possible to sum along the first dimension only"
      ]
    },
    {
      "cell_type": "code",
      "metadata": {
        "id": "ArhebXCiSqV3",
        "colab_type": "code",
        "outputId": "a070c055-9a5a-41ec-9805-af2cea344cd4",
        "colab": {
          "base_uri": "https://localhost:8080/",
          "height": 34
        }
      },
      "source": [
        "b.sum(axis=0)"
      ],
      "execution_count": 0,
      "outputs": [
        {
          "output_type": "execute_result",
          "data": {
            "text/plain": [
              "array([4, 6])"
            ]
          },
          "metadata": {
            "tags": []
          },
          "execution_count": 9
        }
      ]
    },
    {
      "cell_type": "markdown",
      "metadata": {
        "id": "lX-8IGfmYFGf",
        "colab_type": "text"
      },
      "source": [
        "Or in the other dimension"
      ]
    },
    {
      "cell_type": "code",
      "metadata": {
        "id": "vYLMlDy3TCO3",
        "colab_type": "code",
        "outputId": "ac033fa9-dbd9-4aaf-9ff8-4a13f7d985f1",
        "colab": {
          "base_uri": "https://localhost:8080/",
          "height": 34
        }
      },
      "source": [
        "b.sum(axis=1)"
      ],
      "execution_count": 0,
      "outputs": [
        {
          "output_type": "execute_result",
          "data": {
            "text/plain": [
              "array([3, 7])"
            ]
          },
          "metadata": {
            "tags": []
          },
          "execution_count": 10
        }
      ]
    },
    {
      "cell_type": "code",
      "metadata": {
        "id": "WjTcA7sYho8N",
        "colab_type": "code",
        "colab": {}
      },
      "source": [
        ""
      ],
      "execution_count": 0,
      "outputs": []
    }
  ]
}