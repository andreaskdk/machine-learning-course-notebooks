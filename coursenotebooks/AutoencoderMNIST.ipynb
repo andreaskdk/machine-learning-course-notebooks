{
  "nbformat": 4,
  "nbformat_minor": 0,
  "metadata": {
    "colab": {
      "name": "AutoencoderMNIST.ipynb",
      "provenance": []
    },
    "kernelspec": {
      "name": "python3",
      "display_name": "Python 3"
    },
    "accelerator": "GPU"
  },
  "cells": [
    {
      "cell_type": "markdown",
      "metadata": {
        "id": "cOAtqyTn8euO",
        "colab_type": "text"
      },
      "source": [
        "# Autoencoder with MNIST\n",
        "\n",
        "In this example we will train an autoencoder to encode images of hand-written digits to a low-dimensional representation and decode it back to its original representation. \n",
        "\n",
        "We will use the [MNIST dataset](https://en.wikipedia.org/wiki/MNIST_database) for this task. This dataset consists of 60 000 grayscale images of size 28x28. Hence, each image consists of 784 pixels.\n",
        "\n",
        "The space of the encoder is called the latent space and we must specify the dimension of this (**encoding_dim**). A good choice for this problem is 32, which is a compression factor of 24.5 compared with the 784 dimensional input.\n",
        "\n",
        "The autoencoder will have one hidden layer in the encoder and one hidden layer in the decoder."
      ]
    },
    {
      "cell_type": "code",
      "metadata": {
        "id": "CmaTAnVCeVA1",
        "colab_type": "code",
        "outputId": "11831084-fd16-42bb-e702-cf577b41be44",
        "colab": {
          "base_uri": "https://localhost:8080/",
          "height": 272
        }
      },
      "source": [
        "import tensorflow as tf\n",
        "from keras.layers import Input, Dense\n",
        "from keras.models import Model\n",
        "\n",
        "encoding_dim = 32  \n",
        "\n",
        "input_img = Input(shape=(784,))\n",
        "encoded = Dense(128, activation=\"relu\")(input_img)\n",
        "encoded = Dense(encoding_dim, activation='relu')(encoded)\n",
        "\n",
        "decoded = Dense(128, activation=\"relu\")(encoded)\n",
        "decoded = Dense(784, activation='sigmoid')(decoded)\n",
        "\n",
        "autoencoder = Model(input_img, decoded)\n",
        "autoencoder.compile(optimizer='adam', loss='binary_crossentropy')"
      ],
      "execution_count": 0,
      "outputs": [
        {
          "output_type": "stream",
          "text": [
            "WARNING:tensorflow:From /usr/local/lib/python3.6/dist-packages/keras/backend/tensorflow_backend.py:66: The name tf.get_default_graph is deprecated. Please use tf.compat.v1.get_default_graph instead.\n",
            "\n",
            "WARNING:tensorflow:From /usr/local/lib/python3.6/dist-packages/keras/backend/tensorflow_backend.py:541: The name tf.placeholder is deprecated. Please use tf.compat.v1.placeholder instead.\n",
            "\n",
            "WARNING:tensorflow:From /usr/local/lib/python3.6/dist-packages/keras/backend/tensorflow_backend.py:4432: The name tf.random_uniform is deprecated. Please use tf.random.uniform instead.\n",
            "\n",
            "WARNING:tensorflow:From /usr/local/lib/python3.6/dist-packages/keras/optimizers.py:793: The name tf.train.Optimizer is deprecated. Please use tf.compat.v1.train.Optimizer instead.\n",
            "\n"
          ],
          "name": "stdout"
        },
        {
          "output_type": "stream",
          "text": [
            "Using TensorFlow backend.\n"
          ],
          "name": "stderr"
        },
        {
          "output_type": "stream",
          "text": [
            "WARNING:tensorflow:From /usr/local/lib/python3.6/dist-packages/keras/backend/tensorflow_backend.py:3657: The name tf.log is deprecated. Please use tf.math.log instead.\n",
            "\n",
            "WARNING:tensorflow:From /usr/local/lib/python3.6/dist-packages/tensorflow/python/ops/nn_impl.py:180: add_dispatch_support.<locals>.wrapper (from tensorflow.python.ops.array_ops) is deprecated and will be removed in a future version.\n",
            "Instructions for updating:\n",
            "Use tf.where in 2.0, which has the same broadcast rule as np.where\n"
          ],
          "name": "stdout"
        }
      ]
    },
    {
      "cell_type": "code",
      "metadata": {
        "id": "u7BEE7ZjeZ2m",
        "colab_type": "code",
        "colab": {}
      },
      "source": [
        "# this model maps an input to its encoded representation\n",
        "encoder = Model(input_img, encoded)"
      ],
      "execution_count": 0,
      "outputs": []
    },
    {
      "cell_type": "code",
      "metadata": {
        "id": "H7Txv-Vvemr3",
        "colab_type": "code",
        "colab": {}
      },
      "source": [
        "# create a placeholder for an encoded (32-dimensional) input\n",
        "encoded_input = Input(shape=(encoding_dim,))\n",
        "# retrieve the last layer of the autoencoder model\n",
        "decoder_layers = autoencoder.layers[-1](autoencoder.layers[-2](encoded_input))\n",
        "# create the decoder model\n",
        "decoder = Model(encoded_input, decoder_layers)"
      ],
      "execution_count": 0,
      "outputs": []
    },
    {
      "cell_type": "code",
      "metadata": {
        "id": "eG161URV15Es",
        "colab_type": "code",
        "outputId": "123c77e4-05d2-41ac-e2e0-a8902ef3af3c",
        "colab": {
          "base_uri": "https://localhost:8080/",
          "height": 319
        }
      },
      "source": [
        "autoencoder.summary()"
      ],
      "execution_count": 0,
      "outputs": [
        {
          "output_type": "stream",
          "text": [
            "Model: \"model_1\"\n",
            "_________________________________________________________________\n",
            "Layer (type)                 Output Shape              Param #   \n",
            "=================================================================\n",
            "input_1 (InputLayer)         (None, 784)               0         \n",
            "_________________________________________________________________\n",
            "dense_1 (Dense)              (None, 128)               100480    \n",
            "_________________________________________________________________\n",
            "dense_2 (Dense)              (None, 32)                4128      \n",
            "_________________________________________________________________\n",
            "dense_3 (Dense)              (None, 128)               4224      \n",
            "_________________________________________________________________\n",
            "dense_4 (Dense)              (None, 784)               101136    \n",
            "=================================================================\n",
            "Total params: 209,968\n",
            "Trainable params: 209,968\n",
            "Non-trainable params: 0\n",
            "_________________________________________________________________\n"
          ],
          "name": "stdout"
        }
      ]
    },
    {
      "cell_type": "markdown",
      "metadata": {
        "id": "7B2PuYiRBoSH",
        "colab_type": "text"
      },
      "source": [
        "Once the data has been loaded we will normalize the pixel values to be between 0 and 1 and flatten the 28x28 images to be 1x784."
      ]
    },
    {
      "cell_type": "code",
      "metadata": {
        "id": "ym4PRhFLerRr",
        "colab_type": "code",
        "outputId": "4225a09e-48c0-4355-9010-540541a65614",
        "colab": {
          "base_uri": "https://localhost:8080/",
          "height": 84
        }
      },
      "source": [
        "import numpy as np\n",
        "np.random.seed(1)\n",
        "(x_train, _), (x_test, _) = tf.keras.datasets.mnist.load_data()\n",
        "\n",
        "x_train = x_train.astype('float32') / 255.\n",
        "x_test = x_test.astype('float32') / 255.\n",
        "x_train = x_train.reshape((len(x_train), np.prod(x_train.shape[1:])))\n",
        "x_test = x_test.reshape((len(x_test), np.prod(x_test.shape[1:])))\n",
        "print(x_train.shape)\n",
        "print(x_test.shape)"
      ],
      "execution_count": 0,
      "outputs": [
        {
          "output_type": "stream",
          "text": [
            "Downloading data from https://storage.googleapis.com/tensorflow/tf-keras-datasets/mnist.npz\n",
            "11493376/11490434 [==============================] - 0s 0us/step\n",
            "(60000, 784)\n",
            "(10000, 784)\n"
          ],
          "name": "stdout"
        }
      ]
    },
    {
      "cell_type": "markdown",
      "metadata": {
        "id": "6lHsnndvCI3K",
        "colab_type": "text"
      },
      "source": [
        "We are now ready to train the model."
      ]
    },
    {
      "cell_type": "code",
      "metadata": {
        "id": "DSjQu-MveyKv",
        "colab_type": "code",
        "outputId": "c9185a60-f965-43f4-d157-be03610012b2",
        "colab": {
          "base_uri": "https://localhost:8080/",
          "height": 1000
        }
      },
      "source": [
        "autoencoder.fit(x_train, x_train,\n",
        "                epochs=40,\n",
        "                batch_size=256,\n",
        "                shuffle=True,\n",
        "                validation_data=(x_test, x_test))"
      ],
      "execution_count": 0,
      "outputs": [
        {
          "output_type": "stream",
          "text": [
            "WARNING:tensorflow:From /usr/local/lib/python3.6/dist-packages/keras/backend/tensorflow_backend.py:1033: The name tf.assign_add is deprecated. Please use tf.compat.v1.assign_add instead.\n",
            "\n",
            "Train on 60000 samples, validate on 10000 samples\n",
            "Epoch 1/40\n",
            "60000/60000 [==============================] - 6s 100us/step - loss: 0.2317 - val_loss: 0.1537\n",
            "Epoch 2/40\n",
            "60000/60000 [==============================] - 2s 27us/step - loss: 0.1376 - val_loss: 0.1229\n",
            "Epoch 3/40\n",
            "60000/60000 [==============================] - 2s 26us/step - loss: 0.1169 - val_loss: 0.1099\n",
            "Epoch 4/40\n",
            "60000/60000 [==============================] - 2s 28us/step - loss: 0.1084 - val_loss: 0.1047\n",
            "Epoch 5/40\n",
            "60000/60000 [==============================] - 2s 27us/step - loss: 0.1042 - val_loss: 0.1015\n",
            "Epoch 6/40\n",
            "60000/60000 [==============================] - 2s 27us/step - loss: 0.1013 - val_loss: 0.0987\n",
            "Epoch 7/40\n",
            "60000/60000 [==============================] - 2s 27us/step - loss: 0.0990 - val_loss: 0.0966\n",
            "Epoch 8/40\n",
            "60000/60000 [==============================] - 2s 26us/step - loss: 0.0972 - val_loss: 0.0952\n",
            "Epoch 9/40\n",
            "60000/60000 [==============================] - 2s 28us/step - loss: 0.0958 - val_loss: 0.0941\n",
            "Epoch 10/40\n",
            "60000/60000 [==============================] - 2s 27us/step - loss: 0.0947 - val_loss: 0.0931\n",
            "Epoch 11/40\n",
            "60000/60000 [==============================] - 2s 27us/step - loss: 0.0937 - val_loss: 0.0929\n",
            "Epoch 12/40\n",
            "60000/60000 [==============================] - 2s 27us/step - loss: 0.0930 - val_loss: 0.0918\n",
            "Epoch 13/40\n",
            "60000/60000 [==============================] - 2s 27us/step - loss: 0.0923 - val_loss: 0.0908\n",
            "Epoch 14/40\n",
            "60000/60000 [==============================] - 2s 27us/step - loss: 0.0916 - val_loss: 0.0902\n",
            "Epoch 15/40\n",
            "60000/60000 [==============================] - 2s 27us/step - loss: 0.0911 - val_loss: 0.0898\n",
            "Epoch 16/40\n",
            "60000/60000 [==============================] - 2s 27us/step - loss: 0.0907 - val_loss: 0.0895\n",
            "Epoch 17/40\n",
            "60000/60000 [==============================] - 2s 27us/step - loss: 0.0902 - val_loss: 0.0890\n",
            "Epoch 18/40\n",
            "60000/60000 [==============================] - 2s 27us/step - loss: 0.0898 - val_loss: 0.0888\n",
            "Epoch 19/40\n",
            "60000/60000 [==============================] - 2s 27us/step - loss: 0.0894 - val_loss: 0.0882\n",
            "Epoch 20/40\n",
            "60000/60000 [==============================] - 2s 28us/step - loss: 0.0891 - val_loss: 0.0880\n",
            "Epoch 21/40\n",
            "60000/60000 [==============================] - 2s 27us/step - loss: 0.0888 - val_loss: 0.0877\n",
            "Epoch 22/40\n",
            "60000/60000 [==============================] - 2s 28us/step - loss: 0.0885 - val_loss: 0.0877\n",
            "Epoch 23/40\n",
            "60000/60000 [==============================] - 2s 27us/step - loss: 0.0884 - val_loss: 0.0875\n",
            "Epoch 24/40\n",
            "60000/60000 [==============================] - 2s 27us/step - loss: 0.0882 - val_loss: 0.0871\n",
            "Epoch 25/40\n",
            "60000/60000 [==============================] - 2s 27us/step - loss: 0.0879 - val_loss: 0.0868\n",
            "Epoch 26/40\n",
            "60000/60000 [==============================] - 2s 27us/step - loss: 0.0877 - val_loss: 0.0868\n",
            "Epoch 27/40\n",
            "60000/60000 [==============================] - 2s 27us/step - loss: 0.0876 - val_loss: 0.0865\n",
            "Epoch 28/40\n",
            "60000/60000 [==============================] - 2s 28us/step - loss: 0.0874 - val_loss: 0.0865\n",
            "Epoch 29/40\n",
            "60000/60000 [==============================] - 2s 27us/step - loss: 0.0872 - val_loss: 0.0864\n",
            "Epoch 30/40\n",
            "60000/60000 [==============================] - 2s 27us/step - loss: 0.0871 - val_loss: 0.0862\n",
            "Epoch 31/40\n",
            "60000/60000 [==============================] - 2s 27us/step - loss: 0.0869 - val_loss: 0.0863\n",
            "Epoch 32/40\n",
            "60000/60000 [==============================] - 2s 27us/step - loss: 0.0868 - val_loss: 0.0860\n",
            "Epoch 33/40\n",
            "60000/60000 [==============================] - 2s 27us/step - loss: 0.0867 - val_loss: 0.0858\n",
            "Epoch 34/40\n",
            "60000/60000 [==============================] - 2s 27us/step - loss: 0.0865 - val_loss: 0.0858\n",
            "Epoch 35/40\n",
            "60000/60000 [==============================] - 2s 27us/step - loss: 0.0864 - val_loss: 0.0857\n",
            "Epoch 36/40\n",
            "60000/60000 [==============================] - 2s 27us/step - loss: 0.0863 - val_loss: 0.0855\n",
            "Epoch 37/40\n",
            "60000/60000 [==============================] - 2s 27us/step - loss: 0.0862 - val_loss: 0.0853\n",
            "Epoch 38/40\n",
            "60000/60000 [==============================] - 2s 27us/step - loss: 0.0861 - val_loss: 0.0854\n",
            "Epoch 39/40\n",
            "60000/60000 [==============================] - 2s 27us/step - loss: 0.0859 - val_loss: 0.0852\n",
            "Epoch 40/40\n",
            "60000/60000 [==============================] - 2s 27us/step - loss: 0.0858 - val_loss: 0.0852\n"
          ],
          "name": "stdout"
        },
        {
          "output_type": "execute_result",
          "data": {
            "text/plain": [
              "<keras.callbacks.History at 0x7f3373e8ea90>"
            ]
          },
          "metadata": {
            "tags": []
          },
          "execution_count": 6
        }
      ]
    },
    {
      "cell_type": "markdown",
      "metadata": {
        "id": "4Zf6ggNLCYBB",
        "colab_type": "text"
      },
      "source": [
        "We can try the model by encoding and decoding some digits from the testset."
      ]
    },
    {
      "cell_type": "code",
      "metadata": {
        "id": "J1V9u1USe9Uy",
        "colab_type": "code",
        "colab": {}
      },
      "source": [
        "encoded_imgs = encoder.predict(x_test)\n",
        "decoded_imgs = decoder.predict(encoded_imgs)"
      ],
      "execution_count": 0,
      "outputs": []
    },
    {
      "cell_type": "code",
      "metadata": {
        "id": "liMFsnSOfD7Q",
        "colab_type": "code",
        "outputId": "8aca6c5a-6bb2-4f08-a6fb-8e7ae0cdfaea",
        "colab": {
          "base_uri": "https://localhost:8080/",
          "height": 244
        }
      },
      "source": [
        "# use Matplotlib (don't ask)\n",
        "import matplotlib.pyplot as plt\n",
        "\n",
        "n = 10  # how many digits we will display\n",
        "plt.figure(figsize=(20, 4))\n",
        "for i in range(n):\n",
        "    # display original\n",
        "    ax = plt.subplot(2, n, i + 1)\n",
        "    plt.imshow(x_test[i].reshape(28, 28))\n",
        "    plt.gray()\n",
        "    ax.get_xaxis().set_visible(False)\n",
        "    ax.get_yaxis().set_visible(False)\n",
        "\n",
        "    # display reconstruction\n",
        "    ax = plt.subplot(2, n, i + 1 + n)\n",
        "    plt.imshow(decoded_imgs[i].reshape(28, 28))\n",
        "    plt.gray()\n",
        "    ax.get_xaxis().set_visible(False)\n",
        "    ax.get_yaxis().set_visible(False)\n",
        "plt.show()"
      ],
      "execution_count": 0,
      "outputs": [
        {
          "output_type": "display_data",
          "data": {
            "image/png": "[encoded data removed]",
            "text/plain": [
              "<Figure size 1440x288 with 20 Axes>"
            ]
          },
          "metadata": {
            "tags": []
          }
        }
      ]
    },
    {
      "cell_type": "markdown",
      "metadata": {
        "id": "v28kd_ddEGzz",
        "colab_type": "text"
      },
      "source": [
        "The latent space allows us to for example explore interpolations of a 4 and a 9."
      ]
    },
    {
      "cell_type": "code",
      "metadata": {
        "id": "MD6FBR977Ybz",
        "colab_type": "code",
        "outputId": "8f942a8c-6f44-4e21-fe18-e0ca8e0219d1",
        "colab": {
          "base_uri": "https://localhost:8080/",
          "height": 125
        }
      },
      "source": [
        "def showImage(pixels):\n",
        "    image=pixels.reshape([28,28]) # Turn the list into a 2-dimensional array\n",
        "    plt.imshow(image, cmap='gray_r') \n",
        "    plt.show()\n",
        "    \n",
        "n=10\n",
        "latent=np.zeros((n, encoding_dim))\n",
        "for i in range(n):\n",
        "  latent[i]=i/n*encoded_imgs[9]+(n-i)/n*encoded_imgs[6]\n",
        "  \n",
        "  \n",
        "latent_images=decoder.predict(latent)\n",
        "\n",
        "plt.figure(figsize=(20, 4))\n",
        "for i in range(n):\n",
        "\n",
        "    # display reconstruction\n",
        "    ax = plt.subplot(2, n, i + 1)\n",
        "    plt.imshow(latent_images[i].reshape(28, 28))\n",
        "    plt.gray()\n",
        "    ax.get_xaxis().set_visible(False)\n",
        "    ax.get_yaxis().set_visible(False)\n",
        "plt.show()"
      ],
      "execution_count": 0,
      "outputs": [
        {
          "output_type": "display_data",
          "data": {
            "image/png": "[encoded data removed]",
            "text/plain": [
              "<Figure size 1440x288 with 10 Axes>"
            ]
          },
          "metadata": {
            "tags": []
          }
        }
      ]
    },
    {
      "cell_type": "markdown",
      "metadata": {
        "id": "8cgrFYMBHCYH",
        "colab_type": "text"
      },
      "source": [
        "Compare the interpolation in latent space with interpolation in image space."
      ]
    },
    {
      "cell_type": "code",
      "metadata": {
        "id": "txlollT5IIsu",
        "colab_type": "code",
        "outputId": "43218287-724d-47ae-c081-8ca8a78bf119",
        "colab": {
          "base_uri": "https://localhost:8080/",
          "height": 125
        }
      },
      "source": [
        "n=10\n",
        "interpolated=np.zeros((n, 784))\n",
        "for i in range(n):\n",
        "  interpolated[i]=i/n*x_test[9]+(n-i)/n*x_test[6]\n",
        "\n",
        "plt.figure(figsize=(20, 4))\n",
        "for i in range(n):\n",
        "\n",
        "    # display reconstruction\n",
        "    ax = plt.subplot(2, n, i + 1)\n",
        "    plt.imshow(interpolated[i].reshape(28, 28))\n",
        "    plt.gray()\n",
        "    ax.get_xaxis().set_visible(False)\n",
        "    ax.get_yaxis().set_visible(False)\n",
        "plt.show()"
      ],
      "execution_count": 0,
      "outputs": [
        {
          "output_type": "display_data",
          "data": {
            "image/png": "[encoded data removed]",
            "text/plain": [
              "<Figure size 1440x288 with 10 Axes>"
            ]
          },
          "metadata": {
            "tags": []
          }
        }
      ]
    },
    {
      "cell_type": "markdown",
      "metadata": {
        "id": "tJOGYhO1HW1T",
        "colab_type": "text"
      },
      "source": [
        "This basic autoencoder does not really allow us to sample latent space and get something meaningful. For that we would need what is called a variational autoencoder. "
      ]
    },
    {
      "cell_type": "code",
      "metadata": {
        "id": "GIu93ktDhdmF",
        "colab_type": "code",
        "outputId": "8b65a0f4-5245-45c3-c3a3-66db4d4be49d",
        "colab": {
          "base_uri": "https://localhost:8080/",
          "height": 269
        }
      },
      "source": [
        "r=np.random.uniform(10, size=(1,encoding_dim))\n",
        "i=decoder.predict(r)\n",
        "showImage(i)"
      ],
      "execution_count": 0,
      "outputs": [
        {
          "output_type": "display_data",
          "data": {
            "image/png": "[encoded data removed]",
            "text/plain": [
              "<Figure size 432x288 with 1 Axes>"
            ]
          },
          "metadata": {
            "tags": []
          }
        }
      ]
    },
    {
      "cell_type": "code",
      "metadata": {
        "id": "PM457Rqm74ot",
        "colab_type": "code",
        "colab": {}
      },
      "source": [
        ""
      ],
      "execution_count": 0,
      "outputs": []
    }
  ]
}