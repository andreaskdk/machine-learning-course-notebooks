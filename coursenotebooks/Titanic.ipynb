{
  "nbformat": 4,
  "nbformat_minor": 0,
  "metadata": {
    "colab": {
      "name": "Titanic.ipynb",
      "provenance": [],
      "collapsed_sections": []
    },
    "kernelspec": {
      "name": "python3",
      "display_name": "Python 3"
    }
  },
  "cells": [
    {
      "cell_type": "markdown",
      "metadata": {
        "id": "uo2bs6gY6-Yg",
        "colab_type": "text"
      },
      "source": [
        "# Titanic\n",
        "\n",
        "The dataset that we will work with in this exercise contains data on the passengers onboard Titanic when it sank on its maiden voyage. Our objective is to build a model that takes in basic information about a passenger and outputs whether the passenger survived or not.\n",
        "\n",
        "We have the following data on each of the passengers:\n",
        "\n",
        "Variable\t| Definition\t| Key\n",
        "--- | --- | ---\n",
        "survival\t| Survival |\t0 = No, 1 = Yes\n",
        "pclass\t| Ticket class\t| 1 = 1st, 2 = 2nd, 3 = 3rd\n",
        "sex\t| Sex\t\n",
        "Age\t| Age in years\t\n",
        "sibsp\t| number of siblings / spouses aboard the Titanic\t\n",
        "parch\t| number of parents / children aboard the Titanic\t\n",
        "ticket\t| Ticket number\t\n",
        "fare\t| Passenger fare\t\n",
        "cabin\t| Cabin number\t\n",
        "embarked\t| Port of Embarkation |\tC = Cherbourg, Q = Queenstown, S = Southampton\n",
        "\n",
        "\n",
        "The dataset is used for teaching machine learning for example at [Kaggle](https://www.kaggle.com/c/titanic/overview)"
      ]
    },
    {
      "cell_type": "code",
      "metadata": {
        "id": "GSI6STER6uh7",
        "colab_type": "code",
        "outputId": "b07f85e2-d596-40c8-cf9c-91926108f07f",
        "colab": {
          "base_uri": "https://localhost:8080/",
          "height": 206
        }
      },
      "source": [
        "!wget https://storage.googleapis.com/machine-learning-course-datasets/titanic/train.csv -O /tmp/train.csv"
      ],
      "execution_count": 0,
      "outputs": [
        {
          "output_type": "stream",
          "text": [
            "--2019-08-29 11:35:21--  https://storage.googleapis.com/machine-learning-course-datasets/titanic/train.csv\n",
            "Resolving storage.googleapis.com (storage.googleapis.com)... 74.125.141.128, 2607:f8b0:400c:c06::80\n",
            "Connecting to storage.googleapis.com (storage.googleapis.com)|74.125.141.128|:443... connected.\n",
            "HTTP request sent, awaiting response... 200 OK\n",
            "Length: 61194 (60K) [application/octet-stream]\n",
            "Saving to: ‘/tmp/train.csv’\n",
            "\n",
            "\r/tmp/train.csv        0%[                    ]       0  --.-KB/s               \r/tmp/train.csv      100%[===================>]  59.76K  --.-KB/s    in 0s      \n",
            "\n",
            "2019-08-29 11:35:21 (155 MB/s) - ‘/tmp/train.csv’ saved [61194/61194]\n",
            "\n"
          ],
          "name": "stdout"
        }
      ]
    },
    {
      "cell_type": "code",
      "metadata": {
        "id": "YJ0u6e1C7Sww",
        "colab_type": "code",
        "colab": {}
      },
      "source": [
        "import pandas as pd\n",
        "import numpy as np\n",
        "from sklearn.model_selection import train_test_split\n",
        "\n",
        "data=pd.read_csv(\"/tmp/train.csv\")"
      ],
      "execution_count": 0,
      "outputs": []
    },
    {
      "cell_type": "code",
      "metadata": {
        "id": "4-GxH8z48C2T",
        "colab_type": "code",
        "outputId": "f169f776-298c-42d6-fb9c-bb8e67173430",
        "colab": {
          "base_uri": "https://localhost:8080/",
          "height": 271
        }
      },
      "source": [
        "data.head()"
      ],
      "execution_count": 0,
      "outputs": [
        {
          "output_type": "execute_result",
          "data": {
            "text/html": [
              "<div>\n",
              "<style scoped>\n",
              "    .dataframe tbody tr th:only-of-type {\n",
              "        vertical-align: middle;\n",
              "    }\n",
              "\n",
              "    .dataframe tbody tr th {\n",
              "        vertical-align: top;\n",
              "    }\n",
              "\n",
              "    .dataframe thead th {\n",
              "        text-align: right;\n",
              "    }\n",
              "</style>\n",
              "<table border=\"1\" class=\"dataframe\">\n",
              "  <thead>\n",
              "    <tr style=\"text-align: right;\">\n",
              "      <th></th>\n",
              "      <th>PassengerId</th>\n",
              "      <th>Survived</th>\n",
              "      <th>Pclass</th>\n",
              "      <th>Name</th>\n",
              "      <th>Sex</th>\n",
              "      <th>Age</th>\n",
              "      <th>SibSp</th>\n",
              "      <th>Parch</th>\n",
              "      <th>Ticket</th>\n",
              "      <th>Fare</th>\n",
              "      <th>Cabin</th>\n",
              "      <th>Embarked</th>\n",
              "    </tr>\n",
              "  </thead>\n",
              "  <tbody>\n",
              "    <tr>\n",
              "      <th>0</th>\n",
              "      <td>1</td>\n",
              "      <td>0</td>\n",
              "      <td>3</td>\n",
              "      <td>Braund, Mr. Owen Harris</td>\n",
              "      <td>male</td>\n",
              "      <td>22.0</td>\n",
              "      <td>1</td>\n",
              "      <td>0</td>\n",
              "      <td>A/5 21171</td>\n",
              "      <td>7.2500</td>\n",
              "      <td>NaN</td>\n",
              "      <td>S</td>\n",
              "    </tr>\n",
              "    <tr>\n",
              "      <th>1</th>\n",
              "      <td>2</td>\n",
              "      <td>1</td>\n",
              "      <td>1</td>\n",
              "      <td>Cumings, Mrs. John Bradley (Florence Briggs Th...</td>\n",
              "      <td>female</td>\n",
              "      <td>38.0</td>\n",
              "      <td>1</td>\n",
              "      <td>0</td>\n",
              "      <td>PC 17599</td>\n",
              "      <td>71.2833</td>\n",
              "      <td>C85</td>\n",
              "      <td>C</td>\n",
              "    </tr>\n",
              "    <tr>\n",
              "      <th>2</th>\n",
              "      <td>3</td>\n",
              "      <td>1</td>\n",
              "      <td>3</td>\n",
              "      <td>Heikkinen, Miss. Laina</td>\n",
              "      <td>female</td>\n",
              "      <td>26.0</td>\n",
              "      <td>0</td>\n",
              "      <td>0</td>\n",
              "      <td>STON/O2. 3101282</td>\n",
              "      <td>7.9250</td>\n",
              "      <td>NaN</td>\n",
              "      <td>S</td>\n",
              "    </tr>\n",
              "    <tr>\n",
              "      <th>3</th>\n",
              "      <td>4</td>\n",
              "      <td>1</td>\n",
              "      <td>1</td>\n",
              "      <td>Futrelle, Mrs. Jacques Heath (Lily May Peel)</td>\n",
              "      <td>female</td>\n",
              "      <td>35.0</td>\n",
              "      <td>1</td>\n",
              "      <td>0</td>\n",
              "      <td>113803</td>\n",
              "      <td>53.1000</td>\n",
              "      <td>C123</td>\n",
              "      <td>S</td>\n",
              "    </tr>\n",
              "    <tr>\n",
              "      <th>4</th>\n",
              "      <td>5</td>\n",
              "      <td>0</td>\n",
              "      <td>3</td>\n",
              "      <td>Allen, Mr. William Henry</td>\n",
              "      <td>male</td>\n",
              "      <td>35.0</td>\n",
              "      <td>0</td>\n",
              "      <td>0</td>\n",
              "      <td>373450</td>\n",
              "      <td>8.0500</td>\n",
              "      <td>NaN</td>\n",
              "      <td>S</td>\n",
              "    </tr>\n",
              "  </tbody>\n",
              "</table>\n",
              "</div>"
            ],
            "text/plain": [
              "   PassengerId  Survived  Pclass  ...     Fare Cabin  Embarked\n",
              "0            1         0       3  ...   7.2500   NaN         S\n",
              "1            2         1       1  ...  71.2833   C85         C\n",
              "2            3         1       3  ...   7.9250   NaN         S\n",
              "3            4         1       1  ...  53.1000  C123         S\n",
              "4            5         0       3  ...   8.0500   NaN         S\n",
              "\n",
              "[5 rows x 12 columns]"
            ]
          },
          "metadata": {
            "tags": []
          },
          "execution_count": 3
        }
      ]
    },
    {
      "cell_type": "markdown",
      "metadata": {
        "id": "Hgen5NJDQaer",
        "colab_type": "text"
      },
      "source": [
        "## Feature Engineering\n",
        "\n",
        "Below we train a decision tree on only the **SibSp** column. The model has an accuracy of about 65%, but this can be improved with feature engineering. See if you can increase the accuracy, by adding other columns. You only need to change the first cell."
      ]
    },
    {
      "cell_type": "code",
      "metadata": {
        "id": "vk4kUV7nMaCS",
        "colab_type": "code",
        "colab": {}
      },
      "source": [
        "columns=[\"SibSp\"]"
      ],
      "execution_count": 0,
      "outputs": []
    },
    {
      "cell_type": "code",
      "metadata": {
        "id": "kZKYqi3I9IEv",
        "colab_type": "code",
        "outputId": "fddf2ffd-c3c2-4f5a-d98f-7ddcd2445ffd",
        "colab": {
          "base_uri": "https://localhost:8080/",
          "height": 34
        }
      },
      "source": [
        "from sklearn import tree\n",
        "\n",
        "\n",
        "X=data[columns]\n",
        "y=np.array(data[[\"Survived\"]]).flatten()\n",
        "\n",
        "# We split the dataset into a train and a test set. \n",
        "# This will give us a better estimate of how the model performs.\n",
        "X_train, X_test, y_train, y_test = train_test_split(X, y, random_state=0)\n",
        "classifier = tree.DecisionTreeClassifier(max_depth=2)\n",
        "\n",
        "classifier.fit(X_train, y_train)\n",
        "\n",
        "sum(classifier.predict(X_test) == np.array(y_test))/len(y_test)\n"
      ],
      "execution_count": 0,
      "outputs": [
        {
          "output_type": "execute_result",
          "data": {
            "text/plain": [
              "0.6457399103139013"
            ]
          },
          "metadata": {
            "tags": []
          },
          "execution_count": 10
        }
      ]
    },
    {
      "cell_type": "code",
      "metadata": {
        "id": "SYpyX97B8lKf",
        "colab_type": "code",
        "outputId": "e4e9d495-31d8-458d-e342-9d58e32497d7",
        "colab": {
          "base_uri": "https://localhost:8080/",
          "height": 388
        }
      },
      "source": [
        "tree.plot_tree(classifier)"
      ],
      "execution_count": 0,
      "outputs": [
        {
          "output_type": "execute_result",
          "data": {
            "text/plain": [
              "[Text(167.4, 181.2, 'X[0] <= 2.5\\ngini = 0.474\\nsamples = 668\\nvalue = [410, 258]'),\n",
              " Text(83.7, 108.72, 'X[0] <= 0.5\\ngini = 0.48\\nsamples = 634\\nvalue = [381, 253]'),\n",
              " Text(41.85, 36.23999999999998, 'gini = 0.456\\nsamples = 458\\nvalue = [297, 161]'),\n",
              " Text(125.55000000000001, 36.23999999999998, 'gini = 0.499\\nsamples = 176\\nvalue = [84, 92]'),\n",
              " Text(251.10000000000002, 108.72, 'X[0] <= 4.5\\ngini = 0.251\\nsamples = 34\\nvalue = [29, 5]'),\n",
              " Text(209.25, 36.23999999999998, 'gini = 0.34\\nsamples = 23\\nvalue = [18, 5]'),\n",
              " Text(292.95, 36.23999999999998, 'gini = 0.0\\nsamples = 11\\nvalue = [11, 0]')]"
            ]
          },
          "metadata": {
            "tags": []
          },
          "execution_count": 12
        },
        {
          "output_type": "display_data",
          "data": {
            "image/png": "[encoded data removed]",
            "text/plain": [
              "<Figure size 432x288 with 1 Axes>"
            ]
          },
          "metadata": {
            "tags": []
          }
        }
      ]
    },
    {
      "cell_type": "code",
      "metadata": {
        "id": "Kx5HWYJ6_NTW",
        "colab_type": "code",
        "colab": {}
      },
      "source": [
        ""
      ],
      "execution_count": 0,
      "outputs": []
    }
  ]
}