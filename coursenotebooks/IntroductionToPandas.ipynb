{
  "nbformat": 4,
  "nbformat_minor": 0,
  "metadata": {
    "colab": {
      "name": "IntroductionToPandas.ipynb",
      "provenance": [],
      "collapsed_sections": []
    },
    "kernelspec": {
      "name": "python3",
      "display_name": "Python 3"
    }
  },
  "cells": [
    {
      "cell_type": "markdown",
      "metadata": {
        "id": "gxK-MHRiMMHh",
        "colab_type": "text"
      },
      "source": [
        "# Introduction to Pandas\n",
        "\n",
        "- **Pandas** is a library for handling data in table like structures. It is inspired by the statistical programming language **R**. [Documentation](https://pandas.pydata.org/pandas-docs/stable/)\n",
        "\n",
        "\n",
        "The pandas library is normally renamed to **pd** when imported\n"
      ]
    },
    {
      "cell_type": "code",
      "metadata": {
        "id": "T2C7VFWIYMPR",
        "colab_type": "code",
        "colab": {}
      },
      "source": [
        "import pandas as pd"
      ],
      "execution_count": 0,
      "outputs": []
    },
    {
      "cell_type": "markdown",
      "metadata": {
        "id": "NZCo32oNYq_O",
        "colab_type": "text"
      },
      "source": [
        "Pandas are table-like structures containing data in columns and rows. The tables for pandas are called **DataFrames**. Normally we would load data from a file, but it is also possible to create a directly."
      ]
    },
    {
      "cell_type": "code",
      "metadata": {
        "id": "bUuciSnWYWZ-",
        "colab_type": "code",
        "colab": {}
      },
      "source": [
        "countries_dictionary = { \n",
        "     'name' : [\"Denmark\", \"Norway\", \"Sweden\", \"Iceland\", \"Finland\"],\n",
        "     'population' : [5.8, 5.4, 10.3, 0.3, 5.5],\n",
        "     'capital': [\"Copenhagen\", \"Oslo\", \"Stockholm\", \"Reykjavik\", \"Helsinki\"]\n",
        "}\n",
        "\n",
        "df = pd.DataFrame(countries_dictionary)"
      ],
      "execution_count": 0,
      "outputs": []
    },
    {
      "cell_type": "markdown",
      "metadata": {
        "id": "KDY8N400gGsr",
        "colab_type": "text"
      },
      "source": [
        "Colaboratory knows how to display a DataFrame nicely:"
      ]
    },
    {
      "cell_type": "code",
      "metadata": {
        "id": "RIfA9qimf6M_",
        "colab_type": "code",
        "outputId": "b25b2136-2911-49bc-fb20-c2c13b37d8f7",
        "colab": {
          "base_uri": "https://localhost:8080/",
          "height": 204
        }
      },
      "source": [
        "df"
      ],
      "execution_count": 0,
      "outputs": [
        {
          "output_type": "execute_result",
          "data": {
            "text/html": [
              "<div>\n",
              "<style scoped>\n",
              "    .dataframe tbody tr th:only-of-type {\n",
              "        vertical-align: middle;\n",
              "    }\n",
              "\n",
              "    .dataframe tbody tr th {\n",
              "        vertical-align: top;\n",
              "    }\n",
              "\n",
              "    .dataframe thead th {\n",
              "        text-align: right;\n",
              "    }\n",
              "</style>\n",
              "<table border=\"1\" class=\"dataframe\">\n",
              "  <thead>\n",
              "    <tr style=\"text-align: right;\">\n",
              "      <th></th>\n",
              "      <th>name</th>\n",
              "      <th>population</th>\n",
              "      <th>capital</th>\n",
              "    </tr>\n",
              "  </thead>\n",
              "  <tbody>\n",
              "    <tr>\n",
              "      <th>0</th>\n",
              "      <td>Denmark</td>\n",
              "      <td>5.8</td>\n",
              "      <td>Copenhagen</td>\n",
              "    </tr>\n",
              "    <tr>\n",
              "      <th>1</th>\n",
              "      <td>Norway</td>\n",
              "      <td>5.4</td>\n",
              "      <td>Oslo</td>\n",
              "    </tr>\n",
              "    <tr>\n",
              "      <th>2</th>\n",
              "      <td>Sweden</td>\n",
              "      <td>10.3</td>\n",
              "      <td>Stockholm</td>\n",
              "    </tr>\n",
              "    <tr>\n",
              "      <th>3</th>\n",
              "      <td>Iceland</td>\n",
              "      <td>0.3</td>\n",
              "      <td>Reykjavik</td>\n",
              "    </tr>\n",
              "    <tr>\n",
              "      <th>4</th>\n",
              "      <td>Finland</td>\n",
              "      <td>5.5</td>\n",
              "      <td>Helsinki</td>\n",
              "    </tr>\n",
              "  </tbody>\n",
              "</table>\n",
              "</div>"
            ],
            "text/plain": [
              "      name  population     capital\n",
              "0  Denmark         5.8  Copenhagen\n",
              "1   Norway         5.4        Oslo\n",
              "2   Sweden        10.3   Stockholm\n",
              "3  Iceland         0.3   Reykjavik\n",
              "4  Finland         5.5    Helsinki"
            ]
          },
          "metadata": {
            "tags": []
          },
          "execution_count": 4
        }
      ]
    },
    {
      "cell_type": "markdown",
      "metadata": {
        "id": "cPkukFcTgpqY",
        "colab_type": "text"
      },
      "source": [
        "We can se the list of columns:"
      ]
    },
    {
      "cell_type": "code",
      "metadata": {
        "id": "YsEbDnhOgsIh",
        "colab_type": "code",
        "outputId": "c43652b8-7b78-4e4b-e151-63d7c8f06c4b",
        "colab": {
          "base_uri": "https://localhost:8080/",
          "height": 34
        }
      },
      "source": [
        "list(df.columns)"
      ],
      "execution_count": 0,
      "outputs": [
        {
          "output_type": "execute_result",
          "data": {
            "text/plain": [
              "['name', 'population', 'capital']"
            ]
          },
          "metadata": {
            "tags": []
          },
          "execution_count": 5
        }
      ]
    },
    {
      "cell_type": "markdown",
      "metadata": {
        "id": "yoHEgvaRggpp",
        "colab_type": "text"
      },
      "source": [
        "If we want a DataFrame with only some of the columns we select these:"
      ]
    },
    {
      "cell_type": "code",
      "metadata": {
        "id": "18zvdgRCgC5A",
        "colab_type": "code",
        "outputId": "ef734437-343d-436d-89d2-2c13f5f44448",
        "colab": {
          "base_uri": "https://localhost:8080/",
          "height": 204
        }
      },
      "source": [
        "df[[\"name\", \"capital\"]]"
      ],
      "execution_count": 0,
      "outputs": [
        {
          "output_type": "execute_result",
          "data": {
            "text/html": [
              "<div>\n",
              "<style scoped>\n",
              "    .dataframe tbody tr th:only-of-type {\n",
              "        vertical-align: middle;\n",
              "    }\n",
              "\n",
              "    .dataframe tbody tr th {\n",
              "        vertical-align: top;\n",
              "    }\n",
              "\n",
              "    .dataframe thead th {\n",
              "        text-align: right;\n",
              "    }\n",
              "</style>\n",
              "<table border=\"1\" class=\"dataframe\">\n",
              "  <thead>\n",
              "    <tr style=\"text-align: right;\">\n",
              "      <th></th>\n",
              "      <th>name</th>\n",
              "      <th>capital</th>\n",
              "    </tr>\n",
              "  </thead>\n",
              "  <tbody>\n",
              "    <tr>\n",
              "      <th>0</th>\n",
              "      <td>Denmark</td>\n",
              "      <td>Copenhagen</td>\n",
              "    </tr>\n",
              "    <tr>\n",
              "      <th>1</th>\n",
              "      <td>Norway</td>\n",
              "      <td>Oslo</td>\n",
              "    </tr>\n",
              "    <tr>\n",
              "      <th>2</th>\n",
              "      <td>Sweden</td>\n",
              "      <td>Stockholm</td>\n",
              "    </tr>\n",
              "    <tr>\n",
              "      <th>3</th>\n",
              "      <td>Iceland</td>\n",
              "      <td>Reykjavik</td>\n",
              "    </tr>\n",
              "    <tr>\n",
              "      <th>4</th>\n",
              "      <td>Finland</td>\n",
              "      <td>Helsinki</td>\n",
              "    </tr>\n",
              "  </tbody>\n",
              "</table>\n",
              "</div>"
            ],
            "text/plain": [
              "      name     capital\n",
              "0  Denmark  Copenhagen\n",
              "1   Norway        Oslo\n",
              "2   Sweden   Stockholm\n",
              "3  Iceland   Reykjavik\n",
              "4  Finland    Helsinki"
            ]
          },
          "metadata": {
            "tags": []
          },
          "execution_count": 6
        }
      ]
    },
    {
      "cell_type": "markdown",
      "metadata": {
        "id": "1MEEhHHphA1c",
        "colab_type": "text"
      },
      "source": [
        "It is possible to do operations on a column as if it was a scalar variable:"
      ]
    },
    {
      "cell_type": "code",
      "metadata": {
        "id": "1I89bnBDg2YK",
        "colab_type": "code",
        "outputId": "cde4b566-8ac0-4e0b-ae93-a404cd5ce0fe",
        "colab": {
          "base_uri": "https://localhost:8080/",
          "height": 119
        }
      },
      "source": [
        "df[\"population\"]/2"
      ],
      "execution_count": 0,
      "outputs": [
        {
          "output_type": "execute_result",
          "data": {
            "text/plain": [
              "0    2.90\n",
              "1    2.70\n",
              "2    5.15\n",
              "3    0.15\n",
              "4    2.75\n",
              "Name: population, dtype: float64"
            ]
          },
          "metadata": {
            "tags": []
          },
          "execution_count": 7
        }
      ]
    },
    {
      "cell_type": "markdown",
      "metadata": {
        "id": "ksi7LGD3hLlg",
        "colab_type": "text"
      },
      "source": [
        "We can add new columns just as easily:"
      ]
    },
    {
      "cell_type": "code",
      "metadata": {
        "id": "Io6c687Rg-x-",
        "colab_type": "code",
        "outputId": "693b6481-c0c3-4256-b24b-ff603230d5e0",
        "colab": {
          "base_uri": "https://localhost:8080/",
          "height": 204
        }
      },
      "source": [
        "df[\"half_population\"]=df[\"population\"]/2\n",
        "df"
      ],
      "execution_count": 0,
      "outputs": [
        {
          "output_type": "execute_result",
          "data": {
            "text/html": [
              "<div>\n",
              "<style scoped>\n",
              "    .dataframe tbody tr th:only-of-type {\n",
              "        vertical-align: middle;\n",
              "    }\n",
              "\n",
              "    .dataframe tbody tr th {\n",
              "        vertical-align: top;\n",
              "    }\n",
              "\n",
              "    .dataframe thead th {\n",
              "        text-align: right;\n",
              "    }\n",
              "</style>\n",
              "<table border=\"1\" class=\"dataframe\">\n",
              "  <thead>\n",
              "    <tr style=\"text-align: right;\">\n",
              "      <th></th>\n",
              "      <th>name</th>\n",
              "      <th>population</th>\n",
              "      <th>capital</th>\n",
              "      <th>half_population</th>\n",
              "    </tr>\n",
              "  </thead>\n",
              "  <tbody>\n",
              "    <tr>\n",
              "      <th>0</th>\n",
              "      <td>Denmark</td>\n",
              "      <td>5.8</td>\n",
              "      <td>Copenhagen</td>\n",
              "      <td>2.90</td>\n",
              "    </tr>\n",
              "    <tr>\n",
              "      <th>1</th>\n",
              "      <td>Norway</td>\n",
              "      <td>5.4</td>\n",
              "      <td>Oslo</td>\n",
              "      <td>2.70</td>\n",
              "    </tr>\n",
              "    <tr>\n",
              "      <th>2</th>\n",
              "      <td>Sweden</td>\n",
              "      <td>10.3</td>\n",
              "      <td>Stockholm</td>\n",
              "      <td>5.15</td>\n",
              "    </tr>\n",
              "    <tr>\n",
              "      <th>3</th>\n",
              "      <td>Iceland</td>\n",
              "      <td>0.3</td>\n",
              "      <td>Reykjavik</td>\n",
              "      <td>0.15</td>\n",
              "    </tr>\n",
              "    <tr>\n",
              "      <th>4</th>\n",
              "      <td>Finland</td>\n",
              "      <td>5.5</td>\n",
              "      <td>Helsinki</td>\n",
              "      <td>2.75</td>\n",
              "    </tr>\n",
              "  </tbody>\n",
              "</table>\n",
              "</div>"
            ],
            "text/plain": [
              "      name  population     capital  half_population\n",
              "0  Denmark         5.8  Copenhagen             2.90\n",
              "1   Norway         5.4        Oslo             2.70\n",
              "2   Sweden        10.3   Stockholm             5.15\n",
              "3  Iceland         0.3   Reykjavik             0.15\n",
              "4  Finland         5.5    Helsinki             2.75"
            ]
          },
          "metadata": {
            "tags": []
          },
          "execution_count": 8
        }
      ]
    },
    {
      "cell_type": "markdown",
      "metadata": {
        "id": "PooDE-nbhsdq",
        "colab_type": "text"
      },
      "source": [
        "Pandas support functions on columns. For example we can find the mean population:"
      ]
    },
    {
      "cell_type": "code",
      "metadata": {
        "id": "UF1wRz01hUz8",
        "colab_type": "code",
        "outputId": "ef4e3374-3dfa-4301-eccf-f951e71886de",
        "colab": {
          "base_uri": "https://localhost:8080/",
          "height": 34
        }
      },
      "source": [
        "df[\"population\"].mean()"
      ],
      "execution_count": 0,
      "outputs": [
        {
          "output_type": "execute_result",
          "data": {
            "text/plain": [
              "5.46"
            ]
          },
          "metadata": {
            "tags": []
          },
          "execution_count": 9
        }
      ]
    },
    {
      "cell_type": "markdown",
      "metadata": {
        "id": "vGIUMV5-jBuq",
        "colab_type": "text"
      },
      "source": [
        "Suppose we want to find the Nordic countries with a population higher than the mean.\n",
        "\n",
        "We can start by comparing the populations to the mean:"
      ]
    },
    {
      "cell_type": "code",
      "metadata": {
        "id": "WjTcA7sYho8N",
        "colab_type": "code",
        "outputId": "c5e0c2c2-0640-4045-e8dc-07b273d5d97d",
        "colab": {
          "base_uri": "https://localhost:8080/",
          "height": 119
        }
      },
      "source": [
        "df[\"population\"] > df[\"population\"].mean()"
      ],
      "execution_count": 0,
      "outputs": [
        {
          "output_type": "execute_result",
          "data": {
            "text/plain": [
              "0     True\n",
              "1    False\n",
              "2     True\n",
              "3    False\n",
              "4     True\n",
              "Name: population, dtype: bool"
            ]
          },
          "metadata": {
            "tags": []
          },
          "execution_count": 10
        }
      ]
    },
    {
      "cell_type": "markdown",
      "metadata": {
        "id": "0C3myNmkjqSc",
        "colab_type": "text"
      },
      "source": [
        "The boolean array can be used for filtering the original dataframe, so that we only see the countries with higher than mean population."
      ]
    },
    {
      "cell_type": "code",
      "metadata": {
        "id": "-xumFmVsi2G-",
        "colab_type": "code",
        "outputId": "f875fb48-705b-4eb8-eaa3-4b1fe5a140b9",
        "colab": {
          "base_uri": "https://localhost:8080/",
          "height": 142
        }
      },
      "source": [
        "df[df[\"population\"] > df[\"population\"].mean()]"
      ],
      "execution_count": 0,
      "outputs": [
        {
          "output_type": "execute_result",
          "data": {
            "text/html": [
              "<div>\n",
              "<style scoped>\n",
              "    .dataframe tbody tr th:only-of-type {\n",
              "        vertical-align: middle;\n",
              "    }\n",
              "\n",
              "    .dataframe tbody tr th {\n",
              "        vertical-align: top;\n",
              "    }\n",
              "\n",
              "    .dataframe thead th {\n",
              "        text-align: right;\n",
              "    }\n",
              "</style>\n",
              "<table border=\"1\" class=\"dataframe\">\n",
              "  <thead>\n",
              "    <tr style=\"text-align: right;\">\n",
              "      <th></th>\n",
              "      <th>name</th>\n",
              "      <th>population</th>\n",
              "      <th>capital</th>\n",
              "      <th>half_population</th>\n",
              "    </tr>\n",
              "  </thead>\n",
              "  <tbody>\n",
              "    <tr>\n",
              "      <th>0</th>\n",
              "      <td>Denmark</td>\n",
              "      <td>5.8</td>\n",
              "      <td>Copenhagen</td>\n",
              "      <td>2.90</td>\n",
              "    </tr>\n",
              "    <tr>\n",
              "      <th>2</th>\n",
              "      <td>Sweden</td>\n",
              "      <td>10.3</td>\n",
              "      <td>Stockholm</td>\n",
              "      <td>5.15</td>\n",
              "    </tr>\n",
              "    <tr>\n",
              "      <th>4</th>\n",
              "      <td>Finland</td>\n",
              "      <td>5.5</td>\n",
              "      <td>Helsinki</td>\n",
              "      <td>2.75</td>\n",
              "    </tr>\n",
              "  </tbody>\n",
              "</table>\n",
              "</div>"
            ],
            "text/plain": [
              "      name  population     capital  half_population\n",
              "0  Denmark         5.8  Copenhagen             2.90\n",
              "2   Sweden        10.3   Stockholm             5.15\n",
              "4  Finland         5.5    Helsinki             2.75"
            ]
          },
          "metadata": {
            "tags": []
          },
          "execution_count": 11
        }
      ]
    },
    {
      "cell_type": "markdown",
      "metadata": {
        "id": "PYBzvGeFbAZn",
        "colab_type": "text"
      },
      "source": [
        "If we prefer to work with the NumPy array, we can get the array of a column from the **values** property:"
      ]
    },
    {
      "cell_type": "code",
      "metadata": {
        "id": "GSbHhff7jowW",
        "colab_type": "code",
        "outputId": "d500c3f1-7c2f-4681-9883-18e188f21718",
        "colab": {
          "base_uri": "https://localhost:8080/",
          "height": 34
        }
      },
      "source": [
        "df[\"population\"].values"
      ],
      "execution_count": 0,
      "outputs": [
        {
          "output_type": "execute_result",
          "data": {
            "text/plain": [
              "array([ 5.8,  5.4, 10.3,  0.3,  5.5])"
            ]
          },
          "metadata": {
            "tags": []
          },
          "execution_count": 12
        }
      ]
    },
    {
      "cell_type": "code",
      "metadata": {
        "id": "CoeoVC86a50C",
        "colab_type": "code",
        "colab": {}
      },
      "source": [
        ""
      ],
      "execution_count": 0,
      "outputs": []
    }
  ]
}